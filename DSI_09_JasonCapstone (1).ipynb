{
  "nbformat": 4,
  "nbformat_minor": 0,
  "metadata": {
    "colab": {
      "name": "DSI-09_JasonCapstone.ipynb",
      "provenance": []
    },
    "kernelspec": {
      "name": "python3",
      "display_name": "Python 3"
    }
  },
  "cells": [
    {
      "cell_type": "markdown",
      "metadata": {
        "id": "qj_6YVwt0vdC"
      },
      "source": [
        "League of Legends is a popular free-to-play competitive MOBA (multiplayer online battle arena) game where two teams of 5 players, with their respective champion, compete to take the opposing team's base. There are many factors that could cater to the team's advantages such as objectives, kills, assists and gold income. It is often speculated that teams with more crowd control effects, such as knock-ups, stuns, sleeps, etc. are more advantageous in winning the game. In addition, it is also been observed that playstyles generally differ by region, with teams prioritizing different aspects of a game compared to other regions. In essence, I would like to compare playstyles in terms of crowd control in each region."
      ]
    },
    {
      "cell_type": "markdown",
      "metadata": {
        "id": "BOSqfEAqa-bN"
      },
      "source": [
        "The .csv file is uploaded to my Google Drive, so I am utilizing mounting my Google Drive to Colab in order to access the dataset."
      ]
    },
    {
      "cell_type": "code",
      "metadata": {
        "colab": {
          "base_uri": "https://localhost:8080/"
        },
        "id": "sgnHqMHYVjPo",
        "outputId": "c345a7ac-e10a-48cc-c00a-e358f2ed6987"
      },
      "source": [
        "from google.colab import drive \r\n",
        "drive.mount('/content/gdrive')"
      ],
      "execution_count": null,
      "outputs": [
        {
          "output_type": "stream",
          "text": [
            "Mounted at /content/gdrive\n"
          ],
          "name": "stdout"
        }
      ]
    },
    {
      "cell_type": "markdown",
      "metadata": {
        "id": "VuLRSFMLbHo6"
      },
      "source": [
        "Imported any necessary Python libraries to help with analysis, as well as using Pandas library to import and read the dataset."
      ]
    },
    {
      "cell_type": "code",
      "metadata": {
        "id": "FiVckGb6Zf12"
      },
      "source": [
        "import pandas as pd\r\n",
        "import math\r\n",
        "import numpy as np\r\n",
        "import matplotlib.pyplot as plt\r\n",
        "from scipy import stats\r\n",
        "import seaborn as sns"
      ],
      "execution_count": null,
      "outputs": []
    },
    {
      "cell_type": "code",
      "metadata": {
        "colab": {
          "base_uri": "https://localhost:8080/"
        },
        "id": "k3yGMiN7Cx5Y",
        "outputId": "7bbd1282-8718-4a20-c217-1548e4344c2d"
      },
      "source": [
        "!pip install scikit-posthocs"
      ],
      "execution_count": null,
      "outputs": [
        {
          "output_type": "stream",
          "text": [
            "Collecting scikit-posthocs\n",
            "  Downloading https://files.pythonhosted.org/packages/e8/b3/ab9b240381d6218a3a5e94d11a1552217317d9624988cf279ec527b5f83e/scikit_posthocs-0.6.6-py3-none-any.whl\n",
            "Requirement already satisfied: numpy in /usr/local/lib/python3.6/dist-packages (from scikit-posthocs) (1.19.5)\n",
            "Requirement already satisfied: scipy in /usr/local/lib/python3.6/dist-packages (from scikit-posthocs) (1.4.1)\n",
            "Requirement already satisfied: seaborn in /usr/local/lib/python3.6/dist-packages (from scikit-posthocs) (0.11.1)\n",
            "Requirement already satisfied: matplotlib in /usr/local/lib/python3.6/dist-packages (from scikit-posthocs) (3.2.2)\n",
            "Requirement already satisfied: statsmodels in /usr/local/lib/python3.6/dist-packages (from scikit-posthocs) (0.10.2)\n",
            "Requirement already satisfied: pandas>=0.20.0 in /usr/local/lib/python3.6/dist-packages (from scikit-posthocs) (1.1.5)\n",
            "Requirement already satisfied: pyparsing!=2.0.4,!=2.1.2,!=2.1.6,>=2.0.1 in /usr/local/lib/python3.6/dist-packages (from matplotlib->scikit-posthocs) (2.4.7)\n",
            "Requirement already satisfied: python-dateutil>=2.1 in /usr/local/lib/python3.6/dist-packages (from matplotlib->scikit-posthocs) (2.8.1)\n",
            "Requirement already satisfied: kiwisolver>=1.0.1 in /usr/local/lib/python3.6/dist-packages (from matplotlib->scikit-posthocs) (1.3.1)\n",
            "Requirement already satisfied: cycler>=0.10 in /usr/local/lib/python3.6/dist-packages (from matplotlib->scikit-posthocs) (0.10.0)\n",
            "Requirement already satisfied: patsy>=0.4.0 in /usr/local/lib/python3.6/dist-packages (from statsmodels->scikit-posthocs) (0.5.1)\n",
            "Requirement already satisfied: pytz>=2017.2 in /usr/local/lib/python3.6/dist-packages (from pandas>=0.20.0->scikit-posthocs) (2018.9)\n",
            "Requirement already satisfied: six>=1.5 in /usr/local/lib/python3.6/dist-packages (from python-dateutil>=2.1->matplotlib->scikit-posthocs) (1.15.0)\n",
            "Installing collected packages: scikit-posthocs\n",
            "Successfully installed scikit-posthocs-0.6.6\n"
          ],
          "name": "stdout"
        }
      ]
    },
    {
      "cell_type": "code",
      "metadata": {
        "id": "FdlO5Z2EC8_z",
        "colab": {
          "base_uri": "https://localhost:8080/"
        },
        "outputId": "cf0c8e53-f616-42c3-9d91-e5f9c44be000"
      },
      "source": [
        "import scikit_posthocs as sp"
      ],
      "execution_count": null,
      "outputs": [
        {
          "output_type": "stream",
          "text": [
            "/usr/local/lib/python3.6/dist-packages/statsmodels/tools/_testing.py:19: FutureWarning: pandas.util.testing is deprecated. Use the functions in the public API at pandas.testing instead.\n",
            "  import pandas.util.testing as tm\n"
          ],
          "name": "stderr"
        }
      ]
    },
    {
      "cell_type": "markdown",
      "metadata": {
        "id": "C_9K771C2lCf"
      },
      "source": [
        "## Data exploring and some cleaning"
      ]
    },
    {
      "cell_type": "code",
      "metadata": {
        "id": "-UqveBW4Vrt_"
      },
      "source": [
        "league_df = pd.read_csv('/content/gdrive/MyDrive/THINKFUL/First capstone stuff/10.16_LeagueOfLegends_Games.csv', sep = ';')"
      ],
      "execution_count": null,
      "outputs": []
    },
    {
      "cell_type": "markdown",
      "metadata": {
        "id": "tszXEhzmbiE2"
      },
      "source": [
        "Here's a preview of what the dataset looks like."
      ]
    },
    {
      "cell_type": "code",
      "metadata": {
        "colab": {
          "base_uri": "https://localhost:8080/",
          "height": 286
        },
        "id": "mcwssiOUZmzj",
        "outputId": "86733eaa-6e32-49e3-f15f-5c19618f9e3e"
      },
      "source": [
        "league_df.head()"
      ],
      "execution_count": null,
      "outputs": [
        {
          "output_type": "execute_result",
          "data": {
            "text/html": [
              "<div>\n",
              "<style scoped>\n",
              "    .dataframe tbody tr th:only-of-type {\n",
              "        vertical-align: middle;\n",
              "    }\n",
              "\n",
              "    .dataframe tbody tr th {\n",
              "        vertical-align: top;\n",
              "    }\n",
              "\n",
              "    .dataframe thead th {\n",
              "        text-align: right;\n",
              "    }\n",
              "</style>\n",
              "<table border=\"1\" class=\"dataframe\">\n",
              "  <thead>\n",
              "    <tr style=\"text-align: right;\">\n",
              "      <th></th>\n",
              "      <th>gameId</th>\n",
              "      <th>t1p1_accountId</th>\n",
              "      <th>t1p1_assists</th>\n",
              "      <th>t1p1_ban_champId</th>\n",
              "      <th>t1p1_champId</th>\n",
              "      <th>t1p1_champLevel</th>\n",
              "      <th>t1p1_damageDealtToObjectives</th>\n",
              "      <th>t1p1_damageDealtToTurrets</th>\n",
              "      <th>t1p1_damageSelfMitigated</th>\n",
              "      <th>t1p1_deaths</th>\n",
              "      <th>t1p1_goldEarned</th>\n",
              "      <th>t1p1_item0</th>\n",
              "      <th>t1p1_item1</th>\n",
              "      <th>t1p1_item2</th>\n",
              "      <th>t1p1_item3</th>\n",
              "      <th>t1p1_item4</th>\n",
              "      <th>t1p1_item5</th>\n",
              "      <th>t1p1_item6</th>\n",
              "      <th>t1p1_kills</th>\n",
              "      <th>t1p1_lp</th>\n",
              "      <th>t1p1_magicDamageDealt</th>\n",
              "      <th>t1p1_magicDamageDealtToChampions</th>\n",
              "      <th>t1p1_magicalDamageTaken</th>\n",
              "      <th>t1p1_min10_creeps</th>\n",
              "      <th>t1p1_min10_damagetaken</th>\n",
              "      <th>t1p1_min10_gold</th>\n",
              "      <th>t1p1_min10_xp</th>\n",
              "      <th>t1p1_min15_creeps</th>\n",
              "      <th>t1p1_min15_damagetaken</th>\n",
              "      <th>t1p1_min15_gold</th>\n",
              "      <th>t1p1_min15_xp</th>\n",
              "      <th>t1p1_neutralMinionsKilled</th>\n",
              "      <th>t1p1_perk0</th>\n",
              "      <th>t1p1_perk1</th>\n",
              "      <th>t1p1_perk2</th>\n",
              "      <th>t1p1_perk3</th>\n",
              "      <th>t1p1_perk4</th>\n",
              "      <th>t1p1_perk5</th>\n",
              "      <th>t1p1_perkPrimaryStyle</th>\n",
              "      <th>t1p1_perkSubStyle</th>\n",
              "      <th>...</th>\n",
              "      <th>t2p5_min15_gold</th>\n",
              "      <th>t2p5_min15_xp</th>\n",
              "      <th>t2p5_neutralMinionsKilled</th>\n",
              "      <th>t2p5_perk0</th>\n",
              "      <th>t2p5_perk1</th>\n",
              "      <th>t2p5_perk2</th>\n",
              "      <th>t2p5_perk3</th>\n",
              "      <th>t2p5_perk4</th>\n",
              "      <th>t2p5_perk5</th>\n",
              "      <th>t2p5_perkPrimaryStyle</th>\n",
              "      <th>t2p5_perkSubStyle</th>\n",
              "      <th>t2p5_physicalDamageDealt</th>\n",
              "      <th>t2p5_physicalDamageDealtToChampions</th>\n",
              "      <th>t2p5_physicalDamageTaken</th>\n",
              "      <th>t2p5_role</th>\n",
              "      <th>t2p5_spellId1</th>\n",
              "      <th>t2p5_spellId2</th>\n",
              "      <th>t2p5_summonerId</th>\n",
              "      <th>t2p5_summonerName</th>\n",
              "      <th>t2p5_timeCCingOthers</th>\n",
              "      <th>t2p5_totalDamageDealt</th>\n",
              "      <th>t2p5_totalDamageDealtToChampions</th>\n",
              "      <th>t2p5_totalDamageTaken</th>\n",
              "      <th>t2p5_totalHeal</th>\n",
              "      <th>t2p5_totalMinionsKilled</th>\n",
              "      <th>t2p5_totalTimeCrowdControlDealt</th>\n",
              "      <th>t2p5_trueDamageDealt</th>\n",
              "      <th>t2p5_trueDamageDealtToChampions</th>\n",
              "      <th>t2p5_trueDamageTaken</th>\n",
              "      <th>t2p5_visionScore</th>\n",
              "      <th>t2p5_wardsKilled</th>\n",
              "      <th>t2p5_wardsPlaced</th>\n",
              "      <th>gameCreation</th>\n",
              "      <th>gameDuration</th>\n",
              "      <th>gameVersion</th>\n",
              "      <th>platformId</th>\n",
              "      <th>queueId</th>\n",
              "      <th>average_lp</th>\n",
              "      <th>t1_teamId</th>\n",
              "      <th>t1_win</th>\n",
              "    </tr>\n",
              "  </thead>\n",
              "  <tbody>\n",
              "    <tr>\n",
              "      <th>0</th>\n",
              "      <td>4747415735</td>\n",
              "      <td>j7A9NCAnShAbuQuEtlPMwVGqUiHAyEUdI_OEe79ToX-gkeI</td>\n",
              "      <td>7</td>\n",
              "      <td>121</td>\n",
              "      <td>25</td>\n",
              "      <td>11</td>\n",
              "      <td>166</td>\n",
              "      <td>0</td>\n",
              "      <td>12783</td>\n",
              "      <td>5</td>\n",
              "      <td>6206</td>\n",
              "      <td>3158</td>\n",
              "      <td>3157</td>\n",
              "      <td>3860</td>\n",
              "      <td>3114</td>\n",
              "      <td>2055</td>\n",
              "      <td>1028</td>\n",
              "      <td>3364</td>\n",
              "      <td>0</td>\n",
              "      <td>3527</td>\n",
              "      <td>7190</td>\n",
              "      <td>4185</td>\n",
              "      <td>5140</td>\n",
              "      <td>1.0</td>\n",
              "      <td>168.9</td>\n",
              "      <td>160.8</td>\n",
              "      <td>206.8</td>\n",
              "      <td>1.70</td>\n",
              "      <td>458.00</td>\n",
              "      <td>272.80</td>\n",
              "      <td>352.65</td>\n",
              "      <td>0</td>\n",
              "      <td>8465</td>\n",
              "      <td>8463</td>\n",
              "      <td>8473</td>\n",
              "      <td>8451</td>\n",
              "      <td>8347</td>\n",
              "      <td>8313</td>\n",
              "      <td>8400</td>\n",
              "      <td>8300.0</td>\n",
              "      <td>...</td>\n",
              "      <td>364.40</td>\n",
              "      <td>611.30</td>\n",
              "      <td>4</td>\n",
              "      <td>8230</td>\n",
              "      <td>8275</td>\n",
              "      <td>8210</td>\n",
              "      <td>8236</td>\n",
              "      <td>8313</td>\n",
              "      <td>8316</td>\n",
              "      <td>8200</td>\n",
              "      <td>8300.0</td>\n",
              "      <td>17836</td>\n",
              "      <td>2392</td>\n",
              "      <td>10540</td>\n",
              "      <td>TOP</td>\n",
              "      <td>4</td>\n",
              "      <td>12</td>\n",
              "      <td>uBw-GlxtC5Kesy_fs9c5OjkI3OUgpJp_yleqNNXGLY22aC8</td>\n",
              "      <td>Lugerr</td>\n",
              "      <td>18</td>\n",
              "      <td>81062</td>\n",
              "      <td>10920</td>\n",
              "      <td>17664</td>\n",
              "      <td>3407</td>\n",
              "      <td>159</td>\n",
              "      <td>49</td>\n",
              "      <td>2628</td>\n",
              "      <td>223</td>\n",
              "      <td>439</td>\n",
              "      <td>13</td>\n",
              "      <td>0</td>\n",
              "      <td>10</td>\n",
              "      <td>1.596750e+12</td>\n",
              "      <td>1738</td>\n",
              "      <td>10.16.330.9186</td>\n",
              "      <td>EUW1</td>\n",
              "      <td>420</td>\n",
              "      <td>3380.4</td>\n",
              "      <td>100</td>\n",
              "      <td>0</td>\n",
              "    </tr>\n",
              "    <tr>\n",
              "      <th>1</th>\n",
              "      <td>4747759040</td>\n",
              "      <td>LkRqeoIcbTZeArlKA80SnOuMcUhI4tPl_0rkVCKpyepB8g</td>\n",
              "      <td>21</td>\n",
              "      <td>111</td>\n",
              "      <td>37</td>\n",
              "      <td>13</td>\n",
              "      <td>5397</td>\n",
              "      <td>2879</td>\n",
              "      <td>8793</td>\n",
              "      <td>5</td>\n",
              "      <td>7861</td>\n",
              "      <td>1001</td>\n",
              "      <td>3174</td>\n",
              "      <td>3504</td>\n",
              "      <td>3853</td>\n",
              "      <td>3114</td>\n",
              "      <td>1082</td>\n",
              "      <td>3364</td>\n",
              "      <td>2</td>\n",
              "      <td>3269</td>\n",
              "      <td>20349</td>\n",
              "      <td>7145</td>\n",
              "      <td>3677</td>\n",
              "      <td>0.2</td>\n",
              "      <td>283.2</td>\n",
              "      <td>216.9</td>\n",
              "      <td>323.7</td>\n",
              "      <td>0.50</td>\n",
              "      <td>638.35</td>\n",
              "      <td>402.10</td>\n",
              "      <td>528.10</td>\n",
              "      <td>0</td>\n",
              "      <td>8214</td>\n",
              "      <td>8226</td>\n",
              "      <td>8210</td>\n",
              "      <td>8237</td>\n",
              "      <td>8017</td>\n",
              "      <td>8009</td>\n",
              "      <td>8200</td>\n",
              "      <td>8000.0</td>\n",
              "      <td>...</td>\n",
              "      <td>529.25</td>\n",
              "      <td>670.60</td>\n",
              "      <td>0</td>\n",
              "      <td>8010</td>\n",
              "      <td>9111</td>\n",
              "      <td>9105</td>\n",
              "      <td>8299</td>\n",
              "      <td>8275</td>\n",
              "      <td>8234</td>\n",
              "      <td>8000</td>\n",
              "      <td>8200.0</td>\n",
              "      <td>90495</td>\n",
              "      <td>11728</td>\n",
              "      <td>14247</td>\n",
              "      <td>TOP</td>\n",
              "      <td>4</td>\n",
              "      <td>6</td>\n",
              "      <td>06WjmoUKEGBDMYl5jyKp072IpUnGNuWGml1bvcNOzA9MhX7W</td>\n",
              "      <td>KCorp Adam</td>\n",
              "      <td>14</td>\n",
              "      <td>94923</td>\n",
              "      <td>12340</td>\n",
              "      <td>20933</td>\n",
              "      <td>2530</td>\n",
              "      <td>167</td>\n",
              "      <td>43</td>\n",
              "      <td>4428</td>\n",
              "      <td>612</td>\n",
              "      <td>2402</td>\n",
              "      <td>11</td>\n",
              "      <td>2</td>\n",
              "      <td>6</td>\n",
              "      <td>1.596760e+12</td>\n",
              "      <td>1374</td>\n",
              "      <td>10.16.330.9186</td>\n",
              "      <td>EUW1</td>\n",
              "      <td>420</td>\n",
              "      <td>3284.9</td>\n",
              "      <td>100</td>\n",
              "      <td>1</td>\n",
              "    </tr>\n",
              "    <tr>\n",
              "      <th>2</th>\n",
              "      <td>4746336268</td>\n",
              "      <td>IhcGDHrSIFZc3c5g4r_ljnBNfe1bgcBqwg0KwkZdj_q5BA</td>\n",
              "      <td>11</td>\n",
              "      <td>122</td>\n",
              "      <td>89</td>\n",
              "      <td>11</td>\n",
              "      <td>3030</td>\n",
              "      <td>1038</td>\n",
              "      <td>23864</td>\n",
              "      <td>7</td>\n",
              "      <td>6673</td>\n",
              "      <td>3193</td>\n",
              "      <td>3857</td>\n",
              "      <td>3105</td>\n",
              "      <td>3009</td>\n",
              "      <td>2055</td>\n",
              "      <td>1033</td>\n",
              "      <td>3364</td>\n",
              "      <td>0</td>\n",
              "      <td>3309</td>\n",
              "      <td>7639</td>\n",
              "      <td>2771</td>\n",
              "      <td>9725</td>\n",
              "      <td>1.2</td>\n",
              "      <td>349.7</td>\n",
              "      <td>187.7</td>\n",
              "      <td>222.7</td>\n",
              "      <td>1.85</td>\n",
              "      <td>687.05</td>\n",
              "      <td>317.90</td>\n",
              "      <td>342.20</td>\n",
              "      <td>0</td>\n",
              "      <td>8439</td>\n",
              "      <td>8446</td>\n",
              "      <td>8473</td>\n",
              "      <td>8451</td>\n",
              "      <td>8313</td>\n",
              "      <td>8316</td>\n",
              "      <td>8400</td>\n",
              "      <td>8300.0</td>\n",
              "      <td>...</td>\n",
              "      <td>452.25</td>\n",
              "      <td>697.15</td>\n",
              "      <td>12</td>\n",
              "      <td>8005</td>\n",
              "      <td>9111</td>\n",
              "      <td>9105</td>\n",
              "      <td>8299</td>\n",
              "      <td>8444</td>\n",
              "      <td>8451</td>\n",
              "      <td>8000</td>\n",
              "      <td>8400.0</td>\n",
              "      <td>111812</td>\n",
              "      <td>9411</td>\n",
              "      <td>19357</td>\n",
              "      <td>TOP</td>\n",
              "      <td>12</td>\n",
              "      <td>4</td>\n",
              "      <td>iEgpsRC6y8xFeyIJ65MPSaKpkt_X1Xi1BCPPxknRTAqFr_c</td>\n",
              "      <td>PyosikClidNoltey</td>\n",
              "      <td>13</td>\n",
              "      <td>122806</td>\n",
              "      <td>10858</td>\n",
              "      <td>28087</td>\n",
              "      <td>4317</td>\n",
              "      <td>169</td>\n",
              "      <td>90</td>\n",
              "      <td>6708</td>\n",
              "      <td>180</td>\n",
              "      <td>667</td>\n",
              "      <td>27</td>\n",
              "      <td>5</td>\n",
              "      <td>13</td>\n",
              "      <td>1.596720e+12</td>\n",
              "      <td>1692</td>\n",
              "      <td>10.16.330.9186</td>\n",
              "      <td>EUW1</td>\n",
              "      <td>420</td>\n",
              "      <td>3333.2</td>\n",
              "      <td>100</td>\n",
              "      <td>0</td>\n",
              "    </tr>\n",
              "    <tr>\n",
              "      <th>3</th>\n",
              "      <td>4756259885</td>\n",
              "      <td>TC1II2bhaFaQ4q-jQi_GUxV7rgrRToiBC-3qAy18Melt25A</td>\n",
              "      <td>11</td>\n",
              "      <td>81</td>\n",
              "      <td>89</td>\n",
              "      <td>11</td>\n",
              "      <td>1253</td>\n",
              "      <td>1253</td>\n",
              "      <td>14012</td>\n",
              "      <td>4</td>\n",
              "      <td>6720</td>\n",
              "      <td>3860</td>\n",
              "      <td>3050</td>\n",
              "      <td>3109</td>\n",
              "      <td>2055</td>\n",
              "      <td>3047</td>\n",
              "      <td>0</td>\n",
              "      <td>3364</td>\n",
              "      <td>1</td>\n",
              "      <td>3280</td>\n",
              "      <td>10735</td>\n",
              "      <td>3146</td>\n",
              "      <td>4744</td>\n",
              "      <td>1.5</td>\n",
              "      <td>354.4</td>\n",
              "      <td>196.9</td>\n",
              "      <td>242.5</td>\n",
              "      <td>2.15</td>\n",
              "      <td>690.30</td>\n",
              "      <td>358.05</td>\n",
              "      <td>448.25</td>\n",
              "      <td>0</td>\n",
              "      <td>8439</td>\n",
              "      <td>8463</td>\n",
              "      <td>8429</td>\n",
              "      <td>8242</td>\n",
              "      <td>8347</td>\n",
              "      <td>8306</td>\n",
              "      <td>8400</td>\n",
              "      <td>8300.0</td>\n",
              "      <td>...</td>\n",
              "      <td>552.00</td>\n",
              "      <td>707.45</td>\n",
              "      <td>4</td>\n",
              "      <td>8010</td>\n",
              "      <td>9111</td>\n",
              "      <td>9105</td>\n",
              "      <td>8014</td>\n",
              "      <td>8242</td>\n",
              "      <td>8473</td>\n",
              "      <td>8000</td>\n",
              "      <td>8400.0</td>\n",
              "      <td>94714</td>\n",
              "      <td>10774</td>\n",
              "      <td>11710</td>\n",
              "      <td>TOP</td>\n",
              "      <td>4</td>\n",
              "      <td>6</td>\n",
              "      <td>06WjmoUKEGBDMYl5jyKp072IpUnGNuWGml1bvcNOzA9MhX7W</td>\n",
              "      <td>KCorp Adam</td>\n",
              "      <td>16</td>\n",
              "      <td>100263</td>\n",
              "      <td>11699</td>\n",
              "      <td>18700</td>\n",
              "      <td>3499</td>\n",
              "      <td>184</td>\n",
              "      <td>60</td>\n",
              "      <td>5406</td>\n",
              "      <td>846</td>\n",
              "      <td>2200</td>\n",
              "      <td>7</td>\n",
              "      <td>1</td>\n",
              "      <td>5</td>\n",
              "      <td>1.597160e+12</td>\n",
              "      <td>1383</td>\n",
              "      <td>10.16.330.9186</td>\n",
              "      <td>EUW1</td>\n",
              "      <td>420</td>\n",
              "      <td>3258.1</td>\n",
              "      <td>100</td>\n",
              "      <td>1</td>\n",
              "    </tr>\n",
              "    <tr>\n",
              "      <th>4</th>\n",
              "      <td>4756423982</td>\n",
              "      <td>JFMI-NomU4kwSVK5T7JvmYlIiTWQFPo47BoKnMRtz_cKNA</td>\n",
              "      <td>11</td>\n",
              "      <td>91</td>\n",
              "      <td>25</td>\n",
              "      <td>11</td>\n",
              "      <td>260</td>\n",
              "      <td>260</td>\n",
              "      <td>9350</td>\n",
              "      <td>6</td>\n",
              "      <td>6748</td>\n",
              "      <td>0</td>\n",
              "      <td>3028</td>\n",
              "      <td>3860</td>\n",
              "      <td>2065</td>\n",
              "      <td>3158</td>\n",
              "      <td>3108</td>\n",
              "      <td>3364</td>\n",
              "      <td>2</td>\n",
              "      <td>3067</td>\n",
              "      <td>9097</td>\n",
              "      <td>4738</td>\n",
              "      <td>7939</td>\n",
              "      <td>1.2</td>\n",
              "      <td>333.0</td>\n",
              "      <td>222.4</td>\n",
              "      <td>261.5</td>\n",
              "      <td>1.70</td>\n",
              "      <td>640.45</td>\n",
              "      <td>349.65</td>\n",
              "      <td>385.40</td>\n",
              "      <td>0</td>\n",
              "      <td>8465</td>\n",
              "      <td>8463</td>\n",
              "      <td>8473</td>\n",
              "      <td>8242</td>\n",
              "      <td>8313</td>\n",
              "      <td>8347</td>\n",
              "      <td>8400</td>\n",
              "      <td>8300.0</td>\n",
              "      <td>...</td>\n",
              "      <td>522.75</td>\n",
              "      <td>754.80</td>\n",
              "      <td>5</td>\n",
              "      <td>8010</td>\n",
              "      <td>8009</td>\n",
              "      <td>9105</td>\n",
              "      <td>8299</td>\n",
              "      <td>8304</td>\n",
              "      <td>8345</td>\n",
              "      <td>8000</td>\n",
              "      <td>8300.0</td>\n",
              "      <td>7792</td>\n",
              "      <td>1329</td>\n",
              "      <td>11431</td>\n",
              "      <td>TOP</td>\n",
              "      <td>4</td>\n",
              "      <td>12</td>\n",
              "      <td>75VNatV2_0MCZAd6qwBy5lNzJwgqh1l6eZ-kk4FtjmH6S3kK</td>\n",
              "      <td>TwTv Drututt</td>\n",
              "      <td>21</td>\n",
              "      <td>143958</td>\n",
              "      <td>22217</td>\n",
              "      <td>16959</td>\n",
              "      <td>6275</td>\n",
              "      <td>227</td>\n",
              "      <td>409</td>\n",
              "      <td>5682</td>\n",
              "      <td>0</td>\n",
              "      <td>1854</td>\n",
              "      <td>14</td>\n",
              "      <td>2</td>\n",
              "      <td>9</td>\n",
              "      <td>1.597160e+12</td>\n",
              "      <td>1672</td>\n",
              "      <td>10.16.330.9186</td>\n",
              "      <td>EUW1</td>\n",
              "      <td>420</td>\n",
              "      <td>3116.0</td>\n",
              "      <td>100</td>\n",
              "      <td>0</td>\n",
              "    </tr>\n",
              "  </tbody>\n",
              "</table>\n",
              "<p>5 rows × 609 columns</p>\n",
              "</div>"
            ],
            "text/plain": [
              "       gameId  ... t1_win\n",
              "0  4747415735  ...      0\n",
              "1  4747759040  ...      1\n",
              "2  4746336268  ...      0\n",
              "3  4756259885  ...      1\n",
              "4  4756423982  ...      0\n",
              "\n",
              "[5 rows x 609 columns]"
            ]
          },
          "metadata": {
            "tags": []
          },
          "execution_count": 6
        }
      ]
    },
    {
      "cell_type": "markdown",
      "metadata": {
        "id": "6Pp7MJ2MbljO"
      },
      "source": [
        "As we can see, this is a large dataset consisting of 60,156 records and 609 columns. We are looking for specific stats within this columns, so we are only going to use a select number of columns and aggregate them."
      ]
    },
    {
      "cell_type": "code",
      "metadata": {
        "colab": {
          "base_uri": "https://localhost:8080/"
        },
        "id": "jS5A0uAdJ8iQ",
        "outputId": "ad630259-98e8-475e-9c90-65c777e2256b"
      },
      "source": [
        "league_df.shape"
      ],
      "execution_count": null,
      "outputs": [
        {
          "output_type": "execute_result",
          "data": {
            "text/plain": [
              "(60156, 609)"
            ]
          },
          "metadata": {
            "tags": []
          },
          "execution_count": 7
        }
      ]
    },
    {
      "cell_type": "markdown",
      "metadata": {
        "id": "Ew3M8R-9cInr"
      },
      "source": [
        "Since one of the hypotheses we're testing is performance based on region, there are three unique regions in the column 'platformId', and will be grouping our data based on those."
      ]
    },
    {
      "cell_type": "code",
      "metadata": {
        "colab": {
          "base_uri": "https://localhost:8080/"
        },
        "id": "xjCoEn_yBhNY",
        "outputId": "07672133-8d08-4aa8-a68c-5404580b4397"
      },
      "source": [
        "unique_plat = league_df['platformId'].unique()\r\n",
        "unique_plat"
      ],
      "execution_count": null,
      "outputs": [
        {
          "output_type": "execute_result",
          "data": {
            "text/plain": [
              "array(['EUW1', 'KR', 'NA1'], dtype=object)"
            ]
          },
          "metadata": {
            "tags": []
          },
          "execution_count": 6
        }
      ]
    },
    {
      "cell_type": "markdown",
      "metadata": {
        "id": "dd_RP_v2dZgb"
      },
      "source": [
        "The other hypothesis we are testing for is difference in performance in terms of crowd-control (CC). The column with 'timeCCingOthers' is used here, and since each player from each team has their own value, I've combined them with respect to their team using sum and average. I've also made a new dataframe with the combined values and the other variables will be testing, so that data is easier to read and comprehend."
      ]
    },
    {
      "cell_type": "code",
      "metadata": {
        "id": "kcXXl1-Jfy4O"
      },
      "source": [
        "league_df['t1_totalCC'] = league_df[['t1p1_timeCCingOthers', 't1p2_timeCCingOthers', 't1p3_timeCCingOthers', 't1p4_timeCCingOthers', 't1p5_timeCCingOthers']].sum(axis = 1)\r\n",
        "league_df['t2_totalCC'] = league_df[['t2p1_timeCCingOthers', 't2p2_timeCCingOthers', 't2p3_timeCCingOthers', 't2p4_timeCCingOthers', 't2p5_timeCCingOthers']].sum(axis = 1)\r\n",
        "league_df['t1_avgCC'] = league_df[['t1p1_timeCCingOthers', 't1p2_timeCCingOthers', 't1p3_timeCCingOthers', 't1p4_timeCCingOthers', 't1p5_timeCCingOthers']].mean(axis = 1)\r\n",
        "league_df['t2_avgCC'] = league_df[['t2p1_timeCCingOthers', 't2p2_timeCCingOthers', 't2p3_timeCCingOthers', 't2p4_timeCCingOthers', 't2p5_timeCCingOthers']].mean(axis = 1)"
      ],
      "execution_count": null,
      "outputs": []
    },
    {
      "cell_type": "code",
      "metadata": {
        "colab": {
          "base_uri": "https://localhost:8080/",
          "height": 202
        },
        "id": "XPdtBmfxjBBd",
        "outputId": "077c81c6-d8c1-4397-d5b0-2d92826fb8f8"
      },
      "source": [
        "CCdf = league_df[['t1_totalCC', 't2_totalCC','t1_avgCC', 't2_avgCC', 'platformId', 't1_win']]\r\n",
        "CCdf.head()"
      ],
      "execution_count": null,
      "outputs": [
        {
          "output_type": "execute_result",
          "data": {
            "text/html": [
              "<div>\n",
              "<style scoped>\n",
              "    .dataframe tbody tr th:only-of-type {\n",
              "        vertical-align: middle;\n",
              "    }\n",
              "\n",
              "    .dataframe tbody tr th {\n",
              "        vertical-align: top;\n",
              "    }\n",
              "\n",
              "    .dataframe thead th {\n",
              "        text-align: right;\n",
              "    }\n",
              "</style>\n",
              "<table border=\"1\" class=\"dataframe\">\n",
              "  <thead>\n",
              "    <tr style=\"text-align: right;\">\n",
              "      <th></th>\n",
              "      <th>t1_totalCC</th>\n",
              "      <th>t2_totalCC</th>\n",
              "      <th>t1_avgCC</th>\n",
              "      <th>t2_avgCC</th>\n",
              "      <th>platformId</th>\n",
              "      <th>t1_win</th>\n",
              "    </tr>\n",
              "  </thead>\n",
              "  <tbody>\n",
              "    <tr>\n",
              "      <th>0</th>\n",
              "      <td>87</td>\n",
              "      <td>85</td>\n",
              "      <td>17.4</td>\n",
              "      <td>17.0</td>\n",
              "      <td>EUW1</td>\n",
              "      <td>0</td>\n",
              "    </tr>\n",
              "    <tr>\n",
              "      <th>1</th>\n",
              "      <td>59</td>\n",
              "      <td>135</td>\n",
              "      <td>11.8</td>\n",
              "      <td>27.0</td>\n",
              "      <td>EUW1</td>\n",
              "      <td>1</td>\n",
              "    </tr>\n",
              "    <tr>\n",
              "      <th>2</th>\n",
              "      <td>112</td>\n",
              "      <td>86</td>\n",
              "      <td>22.4</td>\n",
              "      <td>17.2</td>\n",
              "      <td>EUW1</td>\n",
              "      <td>0</td>\n",
              "    </tr>\n",
              "    <tr>\n",
              "      <th>3</th>\n",
              "      <td>101</td>\n",
              "      <td>78</td>\n",
              "      <td>20.2</td>\n",
              "      <td>15.6</td>\n",
              "      <td>EUW1</td>\n",
              "      <td>1</td>\n",
              "    </tr>\n",
              "    <tr>\n",
              "      <th>4</th>\n",
              "      <td>112</td>\n",
              "      <td>77</td>\n",
              "      <td>22.4</td>\n",
              "      <td>15.4</td>\n",
              "      <td>EUW1</td>\n",
              "      <td>0</td>\n",
              "    </tr>\n",
              "  </tbody>\n",
              "</table>\n",
              "</div>"
            ],
            "text/plain": [
              "   t1_totalCC  t2_totalCC  t1_avgCC  t2_avgCC platformId  t1_win\n",
              "0          87          85      17.4      17.0       EUW1       0\n",
              "1          59         135      11.8      27.0       EUW1       1\n",
              "2         112          86      22.4      17.2       EUW1       0\n",
              "3         101          78      20.2      15.6       EUW1       1\n",
              "4         112          77      22.4      15.4       EUW1       0"
            ]
          },
          "metadata": {
            "tags": []
          },
          "execution_count": 24
        }
      ]
    },
    {
      "cell_type": "markdown",
      "metadata": {
        "id": "6qAoi4O32e7I"
      },
      "source": [
        "## Hypothesis #1"
      ]
    },
    {
      "cell_type": "markdown",
      "metadata": {
        "id": "am2VP80peCWS"
      },
      "source": [
        "For better analysis, new columns were created: total CC of the winning and losing team and average cc of the winning and losing team."
      ]
    },
    {
      "cell_type": "code",
      "metadata": {
        "colab": {
          "base_uri": "https://localhost:8080/"
        },
        "id": "ewi8hQd23NDH",
        "outputId": "76186fa4-eba7-4cbe-a01d-ed0b8d93fbd7"
      },
      "source": [
        "CCdf['win_totalCC'] = np.where(CCdf['t1_win'] == 1, CCdf['t1_totalCC'], CCdf['t2_totalCC'])\r\n",
        "CCdf['win_avgCC'] = np.where(CCdf['t1_win'] == 1, CCdf['t1_avgCC'], CCdf['t2_avgCC'])"
      ],
      "execution_count": null,
      "outputs": [
        {
          "output_type": "stream",
          "text": [
            "/usr/local/lib/python3.6/dist-packages/ipykernel_launcher.py:1: SettingWithCopyWarning: \n",
            "A value is trying to be set on a copy of a slice from a DataFrame.\n",
            "Try using .loc[row_indexer,col_indexer] = value instead\n",
            "\n",
            "See the caveats in the documentation: https://pandas.pydata.org/pandas-docs/stable/user_guide/indexing.html#returning-a-view-versus-a-copy\n",
            "  \"\"\"Entry point for launching an IPython kernel.\n",
            "/usr/local/lib/python3.6/dist-packages/ipykernel_launcher.py:2: SettingWithCopyWarning: \n",
            "A value is trying to be set on a copy of a slice from a DataFrame.\n",
            "Try using .loc[row_indexer,col_indexer] = value instead\n",
            "\n",
            "See the caveats in the documentation: https://pandas.pydata.org/pandas-docs/stable/user_guide/indexing.html#returning-a-view-versus-a-copy\n",
            "  \n"
          ],
          "name": "stderr"
        }
      ]
    },
    {
      "cell_type": "code",
      "metadata": {
        "colab": {
          "base_uri": "https://localhost:8080/"
        },
        "id": "547a3qoOhxdU",
        "outputId": "4f875926-9c65-4041-b4a6-c92b43b9cfad"
      },
      "source": [
        "CCdf['lose_totalCC'] = np.where(CCdf['t1_win'] == 0, CCdf['t1_totalCC'], CCdf['t2_totalCC'])\r\n",
        "CCdf['lose_avgCC'] = np.where(CCdf['t1_win'] == 0, CCdf['t1_avgCC'], CCdf['t2_avgCC'])"
      ],
      "execution_count": null,
      "outputs": [
        {
          "output_type": "stream",
          "text": [
            "/usr/local/lib/python3.6/dist-packages/ipykernel_launcher.py:1: SettingWithCopyWarning: \n",
            "A value is trying to be set on a copy of a slice from a DataFrame.\n",
            "Try using .loc[row_indexer,col_indexer] = value instead\n",
            "\n",
            "See the caveats in the documentation: https://pandas.pydata.org/pandas-docs/stable/user_guide/indexing.html#returning-a-view-versus-a-copy\n",
            "  \"\"\"Entry point for launching an IPython kernel.\n",
            "/usr/local/lib/python3.6/dist-packages/ipykernel_launcher.py:2: SettingWithCopyWarning: \n",
            "A value is trying to be set on a copy of a slice from a DataFrame.\n",
            "Try using .loc[row_indexer,col_indexer] = value instead\n",
            "\n",
            "See the caveats in the documentation: https://pandas.pydata.org/pandas-docs/stable/user_guide/indexing.html#returning-a-view-versus-a-copy\n",
            "  \n"
          ],
          "name": "stderr"
        }
      ]
    },
    {
      "cell_type": "code",
      "metadata": {
        "colab": {
          "base_uri": "https://localhost:8080/",
          "height": 415
        },
        "id": "y1fKVwmK32KO",
        "outputId": "9a515d0a-3afc-4832-b093-4ccb1a6d1acc"
      },
      "source": [
        "CCdf"
      ],
      "execution_count": null,
      "outputs": [
        {
          "output_type": "execute_result",
          "data": {
            "text/html": [
              "<div>\n",
              "<style scoped>\n",
              "    .dataframe tbody tr th:only-of-type {\n",
              "        vertical-align: middle;\n",
              "    }\n",
              "\n",
              "    .dataframe tbody tr th {\n",
              "        vertical-align: top;\n",
              "    }\n",
              "\n",
              "    .dataframe thead th {\n",
              "        text-align: right;\n",
              "    }\n",
              "</style>\n",
              "<table border=\"1\" class=\"dataframe\">\n",
              "  <thead>\n",
              "    <tr style=\"text-align: right;\">\n",
              "      <th></th>\n",
              "      <th>t1_totalCC</th>\n",
              "      <th>t2_totalCC</th>\n",
              "      <th>t1_avgCC</th>\n",
              "      <th>t2_avgCC</th>\n",
              "      <th>platformId</th>\n",
              "      <th>t1_win</th>\n",
              "      <th>win_totalCC</th>\n",
              "      <th>win_avgCC</th>\n",
              "      <th>lose_totalCC</th>\n",
              "      <th>lose_avgCC</th>\n",
              "    </tr>\n",
              "  </thead>\n",
              "  <tbody>\n",
              "    <tr>\n",
              "      <th>0</th>\n",
              "      <td>87</td>\n",
              "      <td>85</td>\n",
              "      <td>17.4</td>\n",
              "      <td>17.0</td>\n",
              "      <td>EUW1</td>\n",
              "      <td>0</td>\n",
              "      <td>85</td>\n",
              "      <td>17.0</td>\n",
              "      <td>87</td>\n",
              "      <td>17.4</td>\n",
              "    </tr>\n",
              "    <tr>\n",
              "      <th>1</th>\n",
              "      <td>59</td>\n",
              "      <td>135</td>\n",
              "      <td>11.8</td>\n",
              "      <td>27.0</td>\n",
              "      <td>EUW1</td>\n",
              "      <td>1</td>\n",
              "      <td>59</td>\n",
              "      <td>11.8</td>\n",
              "      <td>135</td>\n",
              "      <td>27.0</td>\n",
              "    </tr>\n",
              "    <tr>\n",
              "      <th>2</th>\n",
              "      <td>112</td>\n",
              "      <td>86</td>\n",
              "      <td>22.4</td>\n",
              "      <td>17.2</td>\n",
              "      <td>EUW1</td>\n",
              "      <td>0</td>\n",
              "      <td>86</td>\n",
              "      <td>17.2</td>\n",
              "      <td>112</td>\n",
              "      <td>22.4</td>\n",
              "    </tr>\n",
              "    <tr>\n",
              "      <th>3</th>\n",
              "      <td>101</td>\n",
              "      <td>78</td>\n",
              "      <td>20.2</td>\n",
              "      <td>15.6</td>\n",
              "      <td>EUW1</td>\n",
              "      <td>1</td>\n",
              "      <td>101</td>\n",
              "      <td>20.2</td>\n",
              "      <td>78</td>\n",
              "      <td>15.6</td>\n",
              "    </tr>\n",
              "    <tr>\n",
              "      <th>4</th>\n",
              "      <td>112</td>\n",
              "      <td>77</td>\n",
              "      <td>22.4</td>\n",
              "      <td>15.4</td>\n",
              "      <td>EUW1</td>\n",
              "      <td>0</td>\n",
              "      <td>77</td>\n",
              "      <td>15.4</td>\n",
              "      <td>112</td>\n",
              "      <td>22.4</td>\n",
              "    </tr>\n",
              "    <tr>\n",
              "      <th>...</th>\n",
              "      <td>...</td>\n",
              "      <td>...</td>\n",
              "      <td>...</td>\n",
              "      <td>...</td>\n",
              "      <td>...</td>\n",
              "      <td>...</td>\n",
              "      <td>...</td>\n",
              "      <td>...</td>\n",
              "      <td>...</td>\n",
              "      <td>...</td>\n",
              "    </tr>\n",
              "    <tr>\n",
              "      <th>60151</th>\n",
              "      <td>16</td>\n",
              "      <td>64</td>\n",
              "      <td>3.2</td>\n",
              "      <td>12.8</td>\n",
              "      <td>NA1</td>\n",
              "      <td>0</td>\n",
              "      <td>64</td>\n",
              "      <td>12.8</td>\n",
              "      <td>16</td>\n",
              "      <td>3.2</td>\n",
              "    </tr>\n",
              "    <tr>\n",
              "      <th>60152</th>\n",
              "      <td>27</td>\n",
              "      <td>77</td>\n",
              "      <td>5.4</td>\n",
              "      <td>15.4</td>\n",
              "      <td>NA1</td>\n",
              "      <td>0</td>\n",
              "      <td>77</td>\n",
              "      <td>15.4</td>\n",
              "      <td>27</td>\n",
              "      <td>5.4</td>\n",
              "    </tr>\n",
              "    <tr>\n",
              "      <th>60153</th>\n",
              "      <td>94</td>\n",
              "      <td>128</td>\n",
              "      <td>18.8</td>\n",
              "      <td>25.6</td>\n",
              "      <td>NA1</td>\n",
              "      <td>1</td>\n",
              "      <td>94</td>\n",
              "      <td>18.8</td>\n",
              "      <td>128</td>\n",
              "      <td>25.6</td>\n",
              "    </tr>\n",
              "    <tr>\n",
              "      <th>60154</th>\n",
              "      <td>25</td>\n",
              "      <td>51</td>\n",
              "      <td>5.0</td>\n",
              "      <td>10.2</td>\n",
              "      <td>NA1</td>\n",
              "      <td>1</td>\n",
              "      <td>25</td>\n",
              "      <td>5.0</td>\n",
              "      <td>51</td>\n",
              "      <td>10.2</td>\n",
              "    </tr>\n",
              "    <tr>\n",
              "      <th>60155</th>\n",
              "      <td>44</td>\n",
              "      <td>151</td>\n",
              "      <td>8.8</td>\n",
              "      <td>30.2</td>\n",
              "      <td>NA1</td>\n",
              "      <td>0</td>\n",
              "      <td>151</td>\n",
              "      <td>30.2</td>\n",
              "      <td>44</td>\n",
              "      <td>8.8</td>\n",
              "    </tr>\n",
              "  </tbody>\n",
              "</table>\n",
              "<p>60156 rows × 10 columns</p>\n",
              "</div>"
            ],
            "text/plain": [
              "       t1_totalCC  t2_totalCC  t1_avgCC  ...  win_avgCC lose_totalCC  lose_avgCC\n",
              "0              87          85      17.4  ...       17.0           87        17.4\n",
              "1              59         135      11.8  ...       11.8          135        27.0\n",
              "2             112          86      22.4  ...       17.2          112        22.4\n",
              "3             101          78      20.2  ...       20.2           78        15.6\n",
              "4             112          77      22.4  ...       15.4          112        22.4\n",
              "...           ...         ...       ...  ...        ...          ...         ...\n",
              "60151          16          64       3.2  ...       12.8           16         3.2\n",
              "60152          27          77       5.4  ...       15.4           27         5.4\n",
              "60153          94         128      18.8  ...       18.8          128        25.6\n",
              "60154          25          51       5.0  ...        5.0           51        10.2\n",
              "60155          44         151       8.8  ...       30.2           44         8.8\n",
              "\n",
              "[60156 rows x 10 columns]"
            ]
          },
          "metadata": {
            "tags": []
          },
          "execution_count": 12
        }
      ]
    },
    {
      "cell_type": "markdown",
      "metadata": {
        "id": "68fiOUwDlhaC"
      },
      "source": [
        "Based on the distribution of winning team's total CC and losing team's total CC, the data has some positive skewness, which is still a lower value than 3, but has a rather high kurtosis value. This indicates that the data is not as normally distributed as we would like, and would have to use another test another than the T-test. As such, we will be using the MannWhitney U test."
      ]
    },
    {
      "cell_type": "code",
      "metadata": {
        "colab": {
          "base_uri": "https://localhost:8080/"
        },
        "id": "zGJ8R2JZizLL",
        "outputId": "d31530f3-d870-4498-fbb0-ecb24aad80d6"
      },
      "source": [
        "print(stats.describe(CCdf['win_totalCC']))\r\n",
        "print(stats.describe(CCdf['lose_totalCC']))"
      ],
      "execution_count": null,
      "outputs": [
        {
          "output_type": "stream",
          "text": [
            "DescribeResult(nobs=60156, minmax=(4, 506), mean=95.184570117694, variance=1856.657164291967, skewness=1.326229105140516, kurtosis=4.28048642956368)\n",
            "DescribeResult(nobs=60156, minmax=(0, 514), mean=89.45297227209257, variance=1950.820147262202, skewness=1.211301473991156, kurtosis=3.4084853761270235)\n"
          ],
          "name": "stdout"
        }
      ]
    },
    {
      "cell_type": "code",
      "metadata": {
        "colab": {
          "base_uri": "https://localhost:8080/",
          "height": 404
        },
        "id": "ifbDO6GvhpvP",
        "outputId": "c71e9286-5f81-49ea-d759-378b2677f0dc"
      },
      "source": [
        "plt.figure(figsize = (10,6))\r\n",
        "plt.hist(CCdf['win_totalCC'], alpha = 0.5, bins = 100, label = 'winning team')\r\n",
        "plt.hist(CCdf['lose_totalCC'], alpha = 0.5, bins = 100, label = 'losing team')\r\n",
        "plt.legend(loc = 'upper right')\r\n",
        "plt.xlabel('Total CC')\r\n",
        "plt.ylabel('Count')\r\n",
        "plt.title('Total CC based on team victory')\r\n",
        "plt.show()"
      ],
      "execution_count": null,
      "outputs": [
        {
          "output_type": "display_data",
          "data": {
            "image/png": "[encoded data removed]",
            "text/plain": [
              "<Figure size 720x432 with 1 Axes>"
            ]
          },
          "metadata": {
            "tags": [],
            "needs_background": "light"
          }
        }
      ]
    },
    {
      "cell_type": "code",
      "metadata": {
        "colab": {
          "base_uri": "https://localhost:8080/"
        },
        "id": "AymVt5AbpWzP",
        "outputId": "b889048e-3ec2-4b08-c4fd-086a5cb2153a"
      },
      "source": [
        "ustat = stats.mannwhitneyu(CCdf['win_totalCC'], CCdf['lose_totalCC'])\r\n",
        "print(ustat)"
      ],
      "execution_count": null,
      "outputs": [
        {
          "output_type": "stream",
          "text": [
            "MannwhitneyuResult(statistic=1651219052.0, pvalue=2.9670014295029823e-152)\n"
          ],
          "name": "stdout"
        }
      ]
    },
    {
      "cell_type": "code",
      "metadata": {
        "colab": {
          "base_uri": "https://localhost:8080/",
          "height": 623
        },
        "id": "lG6Hjwf2Agfp",
        "outputId": "23762da4-0146-4c55-efa6-405229eae4b3"
      },
      "source": [
        "plt.figure(figsize = (10, 10))\r\n",
        "sns.boxenplot(x = 't1_win', y = 'win_totalCC', data = CCdf)"
      ],
      "execution_count": null,
      "outputs": [
        {
          "output_type": "execute_result",
          "data": {
            "text/plain": [
              "<matplotlib.axes._subplots.AxesSubplot at 0x7f5dab299470>"
            ]
          },
          "metadata": {
            "tags": []
          },
          "execution_count": 40
        },
        {
          "output_type": "display_data",
          "data": {
            "image/png": "[encoded data removed]",
            "text/plain": [
              "<Figure size 720x720 with 1 Axes>"
            ]
          },
          "metadata": {
            "tags": [],
            "needs_background": "light"
          }
        }
      ]
    },
    {
      "cell_type": "code",
      "metadata": {
        "id": "Bfpo3iC0DyKc"
      },
      "source": [
        "def effect_size(n1, n2):\r\n",
        "  u = ustat[0]\r\n",
        "  n1 = len(n1)\r\n",
        "  n2 = len(n2)\r\n",
        "  return u/(n1*n2)"
      ],
      "execution_count": null,
      "outputs": []
    },
    {
      "cell_type": "code",
      "metadata": {
        "colab": {
          "base_uri": "https://localhost:8080/"
        },
        "id": "S0WY3wl9EU79",
        "outputId": "8d7afa66-7ea9-48fc-b177-2e895f31aa39"
      },
      "source": [
        "effect_size(CCdf['win_totalCC'], CCdf['lose_totalCC'])"
      ],
      "execution_count": null,
      "outputs": [
        {
          "output_type": "execute_result",
          "data": {
            "text/plain": [
              "0.4562961344279946"
            ]
          },
          "metadata": {
            "tags": []
          },
          "execution_count": 67
        }
      ]
    },
    {
      "cell_type": "markdown",
      "metadata": {
        "id": "qmgHkZ_uFTcz"
      },
      "source": [
        "Based on the MannWhitney U result, the p-value is very small, and so we can reject the null hypothesis. In addition, the effect size for this test is 0.46.\r\n",
        "\r\n",
        "We can interpret this as there being a ~46% chance that a random picked CC score from the winning team is higher than that from the losing team. In addition, because we can reject the null hypothesis that there is no statistical significance in CC score between winning and losing teams."
      ]
    },
    {
      "cell_type": "markdown",
      "metadata": {
        "id": "uCsL5QE8HLS3"
      },
      "source": [
        "In essence, what we can take away from this, is that crowd control is important in winning the game. It is proven that teams that have more crowd controlling abilities have a statistical advantage in winning their game."
      ]
    },
    {
      "cell_type": "markdown",
      "metadata": {
        "id": "JjyNlXGE2uz-"
      },
      "source": [
        "## Hypothesis #2?"
      ]
    },
    {
      "cell_type": "markdown",
      "metadata": {
        "id": "5gArx9jj3JT_"
      },
      "source": [
        "The CC dataset was divided into separate datasets based on region: Europe, Korea and North America"
      ]
    },
    {
      "cell_type": "code",
      "metadata": {
        "id": "6OpoozvS3H5R"
      },
      "source": [
        "EU_CC = CCdf.loc[CCdf['platformId'] == 'EUW1']\r\n",
        "KR_CC = CCdf.loc[CCdf['platformId'] == 'KR']\r\n",
        "NA_CC = CCdf.loc[CCdf['platformId'] == 'NA1']"
      ],
      "execution_count": null,
      "outputs": []
    },
    {
      "cell_type": "markdown",
      "metadata": {
        "id": "xTl1WQTd33Dz"
      },
      "source": [
        "Since we're comparing performances in terms of crowd control in each different region, we'll be taking a look at average CC time on the winning team per region.\r\n",
        "\r\n",
        "The shapes of each distribution seem to be very similar, but with a slightly higher than normal kurtosis. That being said, these are not normally distributed, indicating that we will have to be going with a non-parametric test."
      ]
    },
    {
      "cell_type": "code",
      "metadata": {
        "colab": {
          "base_uri": "https://localhost:8080/",
          "height": 341
        },
        "id": "kne809gI5Zy9",
        "outputId": "da8c3452-0354-411f-f5b4-216cbd5acbe4"
      },
      "source": [
        "CCdf['win_avgCC'].hist(by = CCdf['platformId'])\r\n",
        "plt.show()\r\n",
        "print(stats.describe(EU_CC['win_avgCC']))\r\n",
        "print(stats.describe(KR_CC['win_avgCC']))\r\n",
        "print(stats.describe(NA_CC['win_avgCC']))"
      ],
      "execution_count": null,
      "outputs": [
        {
          "output_type": "display_data",
          "data": {
            "image/png": "[encoded data removed]",
            "text/plain": [
              "<Figure size 432x288 with 4 Axes>"
            ]
          },
          "metadata": {
            "tags": [],
            "needs_background": "light"
          }
        },
        {
          "output_type": "stream",
          "text": [
            "DescribeResult(nobs=21892, minmax=(1.2, 96.4), mean=20.03710031061575, variance=77.19118117617823, skewness=1.2919166809664664, kurtosis=3.799821645197893)\n",
            "DescribeResult(nobs=28073, minmax=(1.4, 101.2), mean=18.06101236063121, variance=68.65741728514928, skewness=1.3224869134498825, kurtosis=4.346433106187044)\n",
            "DescribeResult(nobs=10191, minmax=(0.8, 97.4), mean=19.57664606024924, variance=78.38470282260444, skewness=1.420030109712328, kurtosis=5.27331855743159)\n"
          ],
          "name": "stdout"
        }
      ]
    },
    {
      "cell_type": "markdown",
      "metadata": {
        "id": "At_g_3FJ5XA2"
      },
      "source": [
        "For this, a one-way ANOVA test cannot be conducted due to the distributions not being normal. That being said, we could perform a Kruskal-Wallis test, as well as perform a posthoc test for MannWhitney U values to see the non-parametric differences."
      ]
    },
    {
      "cell_type": "code",
      "metadata": {
        "id": "YW6-K0CR11Os",
        "colab": {
          "base_uri": "https://localhost:8080/"
        },
        "outputId": "b77db179-3805-4d3b-cae7-831cd32bff51"
      },
      "source": [
        "stats.kruskal(EU_CC['win_avgCC'], KR_CC['win_avgCC'], NA_CC['win_avgCC'])"
      ],
      "execution_count": null,
      "outputs": [
        {
          "output_type": "execute_result",
          "data": {
            "text/plain": [
              "KruskalResult(statistic=785.1217681695974, pvalue=3.258173678845654e-171)"
            ]
          },
          "metadata": {
            "tags": []
          },
          "execution_count": 54
        }
      ]
    },
    {
      "cell_type": "code",
      "metadata": {
        "colab": {
          "base_uri": "https://localhost:8080/",
          "height": 141
        },
        "id": "_NcI-d3m5lkK",
        "outputId": "111b2a9b-f6dd-4646-c65f-539223e85bb5"
      },
      "source": [
        "sp.posthoc_mannwhitney(CCdf, val_col='win_avgCC', group_col='platformId', p_adjust = 'holm')"
      ],
      "execution_count": null,
      "outputs": [
        {
          "output_type": "execute_result",
          "data": {
            "text/html": [
              "<div>\n",
              "<style scoped>\n",
              "    .dataframe tbody tr th:only-of-type {\n",
              "        vertical-align: middle;\n",
              "    }\n",
              "\n",
              "    .dataframe tbody tr th {\n",
              "        vertical-align: top;\n",
              "    }\n",
              "\n",
              "    .dataframe thead th {\n",
              "        text-align: right;\n",
              "    }\n",
              "</style>\n",
              "<table border=\"1\" class=\"dataframe\">\n",
              "  <thead>\n",
              "    <tr style=\"text-align: right;\">\n",
              "      <th></th>\n",
              "      <th>EUW1</th>\n",
              "      <th>KR</th>\n",
              "      <th>NA1</th>\n",
              "    </tr>\n",
              "  </thead>\n",
              "  <tbody>\n",
              "    <tr>\n",
              "      <th>EUW1</th>\n",
              "      <td>1.000000e+00</td>\n",
              "      <td>1.256804e-160</td>\n",
              "      <td>5.687406e-06</td>\n",
              "    </tr>\n",
              "    <tr>\n",
              "      <th>KR</th>\n",
              "      <td>1.256804e-160</td>\n",
              "      <td>1.000000e+00</td>\n",
              "      <td>1.358969e-58</td>\n",
              "    </tr>\n",
              "    <tr>\n",
              "      <th>NA1</th>\n",
              "      <td>5.687406e-06</td>\n",
              "      <td>1.358969e-58</td>\n",
              "      <td>1.000000e+00</td>\n",
              "    </tr>\n",
              "  </tbody>\n",
              "</table>\n",
              "</div>"
            ],
            "text/plain": [
              "               EUW1             KR           NA1\n",
              "EUW1   1.000000e+00  1.256804e-160  5.687406e-06\n",
              "KR    1.256804e-160   1.000000e+00  1.358969e-58\n",
              "NA1    5.687406e-06   1.358969e-58  1.000000e+00"
            ]
          },
          "metadata": {
            "tags": []
          },
          "execution_count": 71
        }
      ]
    },
    {
      "cell_type": "markdown",
      "metadata": {
        "id": "02YEmHbF6YWa"
      },
      "source": [
        "From this summary table above, we can conclude that there is statistical significance between the regions in terms of their average CC score, rejecting the null, but how much they differ would result in bringing in more variables for extra testing."
      ]
    },
    {
      "cell_type": "code",
      "metadata": {
        "id": "zFjt-efLlGwt"
      },
      "source": [
        ""
      ],
      "execution_count": null,
      "outputs": []
    }
  ]
}